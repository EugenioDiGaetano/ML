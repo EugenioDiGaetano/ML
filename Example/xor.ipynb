{
 "cells": [
  {
   "cell_type": "markdown",
   "id": "f5259f21-8fd3-4846-8582-8099557fa31a",
   "metadata": {},
   "source": [
    "# Learning the XOR function\n",
    "\n",
    "We aim to train a small NN to learn the XOR function.\n",
    "\n"
   ]
  },
  {
   "cell_type": "code",
   "execution_count": 1,
   "id": "88e1c24f-d081-4688-80f2-3520f4a255d3",
   "metadata": {},
   "outputs": [],
   "source": [
    "import numpy as np\n",
    "from sklearn.metrics import accuracy_score\n",
    "\n",
    "# In this trivial example, the training set contains all the possible input configurations\n",
    "X = np.array([[0,0], [0,1], [1,0], [1,1]])\n",
    "y = np.array([0,1,1,0])\n"
   ]
  },
  {
   "cell_type": "markdown",
   "id": "0120af1b-ec32-49b0-929a-0dff23a182c7",
   "metadata": {},
   "source": [
    "Let's visualize the training set"
   ]
  },
  {
   "cell_type": "code",
   "execution_count": 2,
   "id": "9d682ac7-bdb8-478a-aeb4-5975a3d4c84f",
   "metadata": {},
   "outputs": [
    {
     "data": {
      "image/png": "[encoded data removed]",
      "text/plain": [
       "<Figure size 640x480 with 1 Axes>"
      ]
     },
     "metadata": {},
     "output_type": "display_data"
    }
   ],
   "source": [
    "import matplotlib.pyplot as plt\n",
    "import seaborn as sns\n",
    "\n",
    "cmap_bold = [\"blue\", \"red\"]\n",
    "\n",
    "_, ax = plt.subplots()\n",
    "\n",
    "ax.set_xlabel(\"x1\")\n",
    "ax.set_ylabel(\"x2\")\n",
    "\n",
    "# Plot also the training points\n",
    "sns.scatterplot(\n",
    "    x=X[:, 0],\n",
    "    y=X[:, 1],\n",
    "    palette=cmap_bold,\n",
    "    hue=y,\n",
    "    s=190,\n",
    "    alpha=1.0,\n",
    "    edgecolor=\"black\",\n",
    ")\n",
    "plt.title(\n",
    "    \"XOR\"\n",
    ")\n",
    "\n",
    "plt.show()\n"
   ]
  },
  {
   "cell_type": "code",
   "execution_count": 3,
   "id": "6bbd6095-cf87-45ba-856d-8aeaa109d108",
   "metadata": {},
   "outputs": [
    {
     "name": "stdout",
     "output_type": "stream",
     "text": [
      "[0 0] --> z=[-0.5 -1.5] --> h=[0. 0.] --> y=[0.]\n",
      "[0 1] --> z=[ 0.5 -0.5] --> h=[1. 0.] --> y=[1.]\n",
      "[1 0] --> z=[ 0.5 -0.5] --> h=[1. 0.] --> y=[1.]\n",
      "[1 1] --> z=[1.5 0.5] --> h=[1. 1.] --> y=[0.]\n"
     ]
    }
   ],
   "source": [
    "W1 = np.array([[1, 1], [1,1]])\n",
    "b1 = np.array([-0.5, -1.5])\n",
    "\n",
    "W2 = np.array([1, -1])\n",
    "b2 = np.array([-0.5])\n",
    "\n",
    "for x in X:\n",
    "    z = np.dot(W1,x)+b1\n",
    "    h = np.heaviside(z, 0)\n",
    "    z2 = np.dot(W2,h)+b2\n",
    "    y = np.heaviside(z2,0)\n",
    "    print(f\"{x} --> z={z} --> h={h} --> y={y}\")\n"
   ]
  }
 ],
 "metadata": {
  "kernelspec": {
   "display_name": "Python 3 (ipykernel)",
   "language": "python",
   "name": "python3"
  },
  "language_info": {
   "codemirror_mode": {
    "name": "ipython",
    "version": 3
   },
   "file_extension": ".py",
   "mimetype": "text/x-python",
   "name": "python",
   "nbconvert_exporter": "python",
   "pygments_lexer": "ipython3",
   "version": "3.12.6"
  }
 },
 "nbformat": 4,
 "nbformat_minor": 5
}
